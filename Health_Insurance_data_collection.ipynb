{
 "cells": [
  {
   "cell_type": "code",
   "execution_count": 2,
   "metadata": {},
   "outputs": [
    {
     "ename": "ModuleNotFoundError",
     "evalue": "No module named 'psycopg2'",
     "output_type": "error",
     "traceback": [
      "\u001b[1;31m---------------------------------------------------------------------------\u001b[0m",
      "\u001b[1;31mModuleNotFoundError\u001b[0m                       Traceback (most recent call last)",
      "\u001b[1;32m<ipython-input-2-95f405d04364>\u001b[0m in \u001b[0;36m<module>\u001b[1;34m\u001b[0m\n\u001b[1;32m----> 1\u001b[1;33m \u001b[1;32mimport\u001b[0m \u001b[0mpsycopg2\u001b[0m\u001b[1;33m\u001b[0m\u001b[1;33m\u001b[0m\u001b[0m\n\u001b[0m\u001b[0;32m      2\u001b[0m \u001b[1;32mimport\u001b[0m \u001b[0mpandas\u001b[0m \u001b[1;32mas\u001b[0m \u001b[0mpd\u001b[0m\u001b[1;33m\u001b[0m\u001b[1;33m\u001b[0m\u001b[0m\n",
      "\u001b[1;31mModuleNotFoundError\u001b[0m: No module named 'psycopg2'"
     ]
    }
   ],
   "source": [
    "import psycopg2\n",
    "import pandas as pd"
   ]
  },
  {
   "cell_type": "code",
   "execution_count": null,
   "metadata": {},
   "outputs": [],
   "source": [
    "def get_table(name):\n",
    "    cur.execute(\"SELECT * FROM pa004.{}\".format(name))\n",
    "    cols = [ desc[0] for desc in cur.description]\n",
    "\n",
    "    aux = []\n",
    "    for i in cur:\n",
    "        aux.append(i)\n",
    "\n",
    "    table = pd.DataFrame(aux, columns = cols)\n",
    "\n",
    "    return table"
   ]
  },
  {
   "cell_type": "code",
   "execution_count": null,
   "metadata": {},
   "outputs": [],
   "source": [
    "host = 'comunidade-ds-postgres.c50pcakiuwi3.us-east-1.rds.amazonaws.com'\n",
    "port = 5432\n",
    "db_name = 'comunidadedsdb'\n",
    "username = 'member'\n",
    "password = 'cdspa'\n",
    "\n",
    "# Create connection\n",
    "conn = psycopg2.connect(host = host, port = port, dbname = db_name, user = username, password = password)\n",
    "\n",
    "# Create a cursosr object\n",
    "cur = conn.cursor()\n",
    "\n",
    "# A sample query of all data from database\n",
    "cur.execute(\"SELECT * FROM information_schema.tables WHERE table_type = 'BASE TABLE' AND table_schema = 'pa004'\")\n",
    "cols = [ desc[0] for desc in cur.description]\n",
    "\n",
    "tables_name = []\n",
    "for i in cur:\n",
    "    tables_name.append(i)\n",
    "\n",
    "tables_name = pd.DataFrame(tables_name, columns = cols)\n",
    "tables_name"
   ]
  },
  {
   "cell_type": "code",
   "execution_count": null,
   "metadata": {},
   "outputs": [],
   "source": [
    "# Getting data from tables\n",
    "\n",
    "users = get_table(tables_name['table_name'][0])\n",
    "vehicle = get_table(tables_name['table_name'][1])\n",
    "insurance = get_table(tables_name['table_name'][2])\n",
    "\n",
    "# Checking shape\n",
    "print('Tables shape:\\n .Users: {}\\n.Vehicle: {}\\n.Insurance: {}'.format(users.shape, vehicle.shape, insurance.shape))"
   ]
  },
  {
   "cell_type": "code",
   "execution_count": null,
   "metadata": {},
   "outputs": [],
   "source": [
    "raw_dataset = users.merge(vehicle, how='inner', on='id')\n",
    "raw_dataset = raw_dataset.merge(insurance, how='inner', on='id')\n",
    "raw_dataset.head()"
   ]
  },
  {
   "cell_type": "code",
   "execution_count": null,
   "metadata": {},
   "outputs": [],
   "source": [
    "raw_dataset.to_csv('train.csv', index=False)"
   ]
  },
  {
   "cell_type": "code",
   "execution_count": null,
   "metadata": {},
   "outputs": [],
   "source": []
  },
  {
   "cell_type": "code",
   "execution_count": null,
   "metadata": {},
   "outputs": [],
   "source": []
  },
  {
   "cell_type": "code",
   "execution_count": null,
   "metadata": {},
   "outputs": [],
   "source": []
  },
  {
   "cell_type": "code",
   "execution_count": null,
   "metadata": {},
   "outputs": [],
   "source": []
  }
 ],
 "metadata": {
  "kernelspec": {
   "display_name": "Python 3",
   "language": "python",
   "name": "python3"
  },
  "language_info": {
   "codemirror_mode": {
    "name": "ipython",
    "version": 3
   },
   "file_extension": ".py",
   "mimetype": "text/x-python",
   "name": "python",
   "nbconvert_exporter": "python",
   "pygments_lexer": "ipython3",
   "version": "3.8.5"
  }
 },
 "nbformat": 4,
 "nbformat_minor": 2
}
